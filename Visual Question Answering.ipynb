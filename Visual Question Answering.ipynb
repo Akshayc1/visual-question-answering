{
 "cells": [
  {
   "cell_type": "markdown",
   "metadata": {},
   "source": [
    "### Importing libraries"
   ]
  },
  {
   "cell_type": "code",
   "execution_count": 3,
   "metadata": {
    "colab": {
     "base_uri": "https://localhost:8080/",
     "height": 34
    },
    "colab_type": "code",
    "executionInfo": {
     "elapsed": 5404,
     "status": "ok",
     "timestamp": 1562173981747,
     "user": {
      "displayName": "CHAVAN AKSHAY",
      "photoUrl": "",
      "userId": "10674464813829582221"
     },
     "user_tz": -330
    },
    "id": "wJ6XNNcldSFk",
    "outputId": "a481e904-16ca-414d-fb38-62c093e3142c"
   },
   "outputs": [
    {
     "name": "stderr",
     "output_type": "stream",
     "text": [
      "Using TensorFlow backend.\n"
     ]
    }
   ],
   "source": [
    "import numpy as np\n",
    "import pandas as pd\n",
    "import warnings\n",
    "warnings.filterwarnings(\"ignore\")\n",
    "\n",
    "import spacy\n",
    "import scipy.io\n",
    "import gc\n",
    "from sklearn.preprocessing import LabelEncoder\n",
    "import pickle\n",
    "\n",
    "from keras.models import Sequential\n",
    "from keras.layers.core import Dense, Dropout, Activation, Reshape\n",
    "from keras import Input\n",
    "from keras.layers.recurrent import LSTM\n",
    "from keras.layers import concatenate\n",
    "from keras.layers.merge import Concatenate\n",
    "from keras.models import model_from_json, Model\n",
    "from keras.utils import plot_model\n",
    "from collections import defaultdict\n",
    "import operator\n",
    "from keras.utils import np_utils, generic_utils\n",
    "from progressbar import Bar, ETA, Percentage, ProgressBar\n",
    "from itertools import zip_longest\n",
    "from keras.models import load_model"
   ]
  },
  {
   "cell_type": "markdown",
   "metadata": {},
   "source": [
    "### Reading the text files that contains extracted questions and annotations"
   ]
  },
  {
   "cell_type": "code",
   "execution_count": 1,
   "metadata": {},
   "outputs": [],
   "source": [
    "questions = open('Preprocessed data/ques.txt', 'rb').read().decode('utf-8').splitlines()\n",
    "questions_len = open('Preprocessed data/ques_len.txt', 'rb').read().decode('utf-8').splitlines()\n",
    "answers = open('Preprocessed data/answer.txt','rb').read().decode('utf-8').splitlines()\n",
    "image_id = open('Preprocessed data/images_id.txt','rb').read().decode('utf-8').splitlines()\n",
    "vgg_path = \"vgg_feats.mat\""
   ]
  },
  {
   "cell_type": "code",
   "execution_count": 24,
   "metadata": {},
   "outputs": [
    {
     "name": "stdout",
     "output_type": "stream",
     "text": [
      "Animal, vegetable or mineral?\n",
      "vegetable\n"
     ]
    },
    {
     "data": {
      "text/plain": [
       "'152776'"
      ]
     },
     "execution_count": 24,
     "metadata": {},
     "output_type": "execute_result"
    }
   ],
   "source": [
    "print(questions[0])\n",
    "print(answers[0])\n",
    "image_id[0]"
   ]
  },
  {
   "cell_type": "markdown",
   "metadata": {},
   "source": [
    "You can take any index and its corresponding question, answer and image id. Just Visit http://cocodataset.org/#explore and type image id. You will get the image. So by this way you can check questions about images ans its answers."
   ]
  },
  {
   "cell_type": "code",
   "execution_count": 4,
   "metadata": {},
   "outputs": [],
   "source": [
    "nlp = spacy.load(\"en_core_web_md\")"
   ]
  },
  {
   "cell_type": "code",
   "execution_count": 5,
   "metadata": {},
   "outputs": [],
   "source": [
    "vgg = scipy.io.loadmat(vgg_path)\n",
    "features = vgg['feats']"
   ]
  },
  {
   "cell_type": "markdown",
   "metadata": {},
   "source": [
    "Since we are creating a predictive model, we would not like to have all the words present in our vocabulary but the words which are more likely to occur or which are common. Hence we define upper limit as 1000 that is first 1000 most occuring words in vocabulary."
   ]
  },
  {
   "cell_type": "code",
   "execution_count": 8,
   "metadata": {},
   "outputs": [],
   "source": [
    "def freq_answers(questions, answers, image_id, upper_lim):\n",
    "    freq_ans = defaultdict(int)\n",
    "    for ans in answers:\n",
    "        freq_ans[ans] +=1\n",
    "    \n",
    "    sort = sorted(freq_ans.items(), key=operator.itemgetter(1), reverse=True)[0:upper_lim]\n",
    "    #print(sort)\n",
    "    top_ans, top_freq = zip(*sort)\n",
    "    #print(top_ans, top_freq)\n",
    "    new_answers_train = list()\n",
    "    new_questions_train = list()\n",
    "    new_images_train = list()\n",
    "    for ans, ques, img in zip(answers, questions, image_id):\n",
    "        if ans in top_ans:\n",
    "            new_answers_train.append(ans)\n",
    "            new_questions_train.append(ques)\n",
    "            new_images_train.append(img)\n",
    "    return (new_questions_train, new_answers_train, new_images_train)"
   ]
  },
  {
   "cell_type": "code",
   "execution_count": 7,
   "metadata": {
    "colab": {
     "base_uri": "https://localhost:8080/",
     "height": 34
    },
    "colab_type": "code",
    "executionInfo": {
     "elapsed": 1474,
     "status": "ok",
     "timestamp": 1562174121008,
     "user": {
      "displayName": "CHAVAN AKSHAY",
      "photoUrl": "",
      "userId": "10674464813829582221"
     },
     "user_tz": -330
    },
    "id": "maYZ_HE4eeRQ",
    "outputId": "6527d469-4d52-4710-e1eb-4ebaaba25d0e"
   },
   "outputs": [
    {
     "name": "stdout",
     "output_type": "stream",
     "text": [
      "105175 105175 105175\n"
     ]
    }
   ],
   "source": [
    "upper_lim = 1000\n",
    "questions, answers, image_id = freq_answers(questions, answers, image_id, upper_lim)\n",
    "questions_len, questions, answers, image_id = (list(t) for t in zip(*sorted(zip(questions_len, questions, answers, image_id))))\n",
    "print (len(questions), len(answers),len(image_id))"
   ]
  },
  {
   "cell_type": "code",
   "execution_count": 12,
   "metadata": {
    "colab": {
     "base_uri": "https://localhost:8080/",
     "height": 34
    },
    "colab_type": "code",
    "executionInfo": {
     "elapsed": 1036,
     "status": "ok",
     "timestamp": 1562174123863,
     "user": {
      "displayName": "CHAVAN AKSHAY",
      "photoUrl": "",
      "userId": "10674464813829582221"
     },
     "user_tz": -330
    },
    "id": "_hjBovSdeyNf",
    "outputId": "49ba6d39-cc58-401f-a94e-c94329da0083"
   },
   "outputs": [
    {
     "data": {
      "text/plain": [
       "LabelEncoder()"
      ]
     },
     "execution_count": 12,
     "metadata": {
      "tags": []
     },
     "output_type": "execute_result"
    }
   ],
   "source": [
    "le = LabelEncoder()\n",
    "le.fit(answers)\n",
    "pickle.dump(le, open('Preprocessed Data/label_encoder_lstm.pkl','wb'))"
   ]
  },
  {
   "cell_type": "markdown",
   "metadata": {},
   "source": [
    "### Defining model parameters"
   ]
  },
  {
   "cell_type": "code",
   "execution_count": 9,
   "metadata": {
    "colab": {},
    "colab_type": "code",
    "id": "Jl9GdRJkgQYp"
   },
   "outputs": [],
   "source": [
    "batch_size               =      512\n",
    "img_dim                  =     4096\n",
    "word2vec_dim             =      300\n",
    "num_hidden_nodes_mlp     =     1024\n",
    "num_hidden_nodes_lstm    =      512\n",
    "num_layers_lstm          =        3\n",
    "dropout                  =       0.5\n",
    "activation_mlp           =     'tanh'\n",
    "num_epochs = 5"
   ]
  },
  {
   "cell_type": "code",
   "execution_count": 11,
   "metadata": {
    "colab": {},
    "colab_type": "code",
    "id": "pR6xxQAQgS0Z"
   },
   "outputs": [],
   "source": [
    "img_ids = open('Preprocessed data/coco_vgg_IDMap.txt','rb').read().decode('utf-8').splitlines()\n",
    "id_map = dict()\n",
    "for ids in img_ids:\n",
    "    id_split = ids.split()\n",
    "    id_map[id_split[0]] = int(id_split[1])\n",
    "    #print(id_map)"
   ]
  },
  {
   "cell_type": "markdown",
   "metadata": {},
   "source": [
    "### Defining network architecture"
   ]
  },
  {
   "cell_type": "code",
   "execution_count": 12,
   "metadata": {
    "colab": {
     "base_uri": "https://localhost:8080/",
     "height": 204
    },
    "colab_type": "code",
    "executionInfo": {
     "elapsed": 969,
     "status": "ok",
     "timestamp": 1562045179425,
     "user": {
      "displayName": "CHAVAN AKSHAY",
      "photoUrl": "",
      "userId": "10674464813829582221"
     },
     "user_tz": -330
    },
    "id": "spGReGzigeCw",
    "outputId": "f902316f-9cb3-488e-f994-42a3c0ba7886"
   },
   "outputs": [
    {
     "name": "stdout",
     "output_type": "stream",
     "text": [
      "Model: \"model_1\"\n",
      "_________________________________________________________________\n",
      "Layer (type)                 Output Shape              Param #   \n",
      "=================================================================\n",
      "reshape_1_input (InputLayer) (None, 4096)              0         \n",
      "_________________________________________________________________\n",
      "reshape_1 (Reshape)          (None, 4096)              0         \n",
      "=================================================================\n",
      "Total params: 0\n",
      "Trainable params: 0\n",
      "Non-trainable params: 0\n",
      "_________________________________________________________________\n"
     ]
    }
   ],
   "source": [
    "image_model = Sequential()\n",
    "image_model.add(Reshape(input_shape = (4096,), target_shape=(4096,)))\n",
    "model1 = Model(inputs = image_model.input, outputs = image_model.output)\n",
    "model1.summary()"
   ]
  },
  {
   "cell_type": "code",
   "execution_count": 13,
   "metadata": {
    "colab": {
     "base_uri": "https://localhost:8080/",
     "height": 326
    },
    "colab_type": "code",
    "executionInfo": {
     "elapsed": 3756,
     "status": "ok",
     "timestamp": 1561983121781,
     "user": {
      "displayName": "CHAVAN AKSHAY",
      "photoUrl": "",
      "userId": "10674464813829582221"
     },
     "user_tz": -330
    },
    "id": "ynH_3KAmggvE",
    "outputId": "0818da99-4fbe-4c4a-cf4a-8fd91f5e6242"
   },
   "outputs": [
    {
     "name": "stdout",
     "output_type": "stream",
     "text": [
      "Model: \"model_2\"\n",
      "_________________________________________________________________\n",
      "Layer (type)                 Output Shape              Param #   \n",
      "=================================================================\n",
      "lstm_1_input (InputLayer)    (None, None, 300)         0         \n",
      "_________________________________________________________________\n",
      "lstm_1 (LSTM)                (None, None, 512)         1665024   \n",
      "_________________________________________________________________\n",
      "lstm_2 (LSTM)                (None, None, 512)         2099200   \n",
      "_________________________________________________________________\n",
      "lstm_3 (LSTM)                (None, 512)               2099200   \n",
      "=================================================================\n",
      "Total params: 5,863,424\n",
      "Trainable params: 5,863,424\n",
      "Non-trainable params: 0\n",
      "_________________________________________________________________\n"
     ]
    }
   ],
   "source": [
    "language_model = Sequential()\n",
    "language_model.add(LSTM(output_dim=num_hidden_nodes_lstm, \n",
    "                        return_sequences=True, input_shape=(None, word2vec_dim)))\n",
    "\n",
    "for i in range(num_layers_lstm-2):\n",
    "    language_model.add(LSTM(output_dim=num_hidden_nodes_lstm, return_sequences=True))\n",
    "language_model.add(LSTM(output_dim=num_hidden_nodes_lstm, return_sequences=False))\n",
    "\n",
    "model2 = Model(language_model.input, language_model.output)\n",
    "model2.summary()"
   ]
  },
  {
   "cell_type": "code",
   "execution_count": 14,
   "metadata": {
    "colab": {},
    "colab_type": "code",
    "id": "PzsG7zK-gk4Z"
   },
   "outputs": [],
   "source": [
    "combined = concatenate([image_model.output, language_model.output])"
   ]
  },
  {
   "cell_type": "code",
   "execution_count": 15,
   "metadata": {
    "colab": {
     "base_uri": "https://localhost:8080/",
     "height": 122
    },
    "colab_type": "code",
    "executionInfo": {
     "elapsed": 1042,
     "status": "ok",
     "timestamp": 1561983125120,
     "user": {
      "displayName": "CHAVAN AKSHAY",
      "photoUrl": "",
      "userId": "10674464813829582221"
     },
     "user_tz": -330
    },
    "id": "alJ5UiRJgoOd",
    "outputId": "44d96efd-9e45-468a-cfc6-68e4c7d2634b"
   },
   "outputs": [],
   "source": [
    "model = Dense(num_hidden_nodes_mlp, init='uniform', activation = 'tanh')(combined)\n",
    "#model = Activation('tanh')(model)\n",
    "model = Dropout(0.5)(model)\n",
    "\n",
    "model = Dense(num_hidden_nodes_mlp, init='uniform', activation = 'tanh')(model)\n",
    "#model = Activation('tanh')(model)\n",
    "model = Dropout(0.5)(model)\n",
    "\n",
    "model = Dense(num_hidden_nodes_mlp, init='uniform', activation = 'tanh')(model)\n",
    "#model = Activation('tanh')(model)\n",
    "model = Dropout(0.5)(model)\n",
    "\n",
    "model = Dense(upper_lim)(model)\n",
    "model = Activation(\"softmax\")(model)\n",
    "\n",
    "model = Model(inputs=[image_model.input, language_model.input], outputs=model)"
   ]
  },
  {
   "cell_type": "code",
   "execution_count": 16,
   "metadata": {
    "colab": {
     "base_uri": "https://localhost:8080/",
     "height": 663
    },
    "colab_type": "code",
    "executionInfo": {
     "elapsed": 879,
     "status": "ok",
     "timestamp": 1562045232222,
     "user": {
      "displayName": "CHAVAN AKSHAY",
      "photoUrl": "",
      "userId": "10674464813829582221"
     },
     "user_tz": -330
    },
    "id": "RNkF01H_gvWl",
    "outputId": "3ddabea6-18fa-4c69-a6df-83bf0b9e16d9"
   },
   "outputs": [
    {
     "name": "stdout",
     "output_type": "stream",
     "text": [
      "Model: \"model_3\"\n",
      "__________________________________________________________________________________________________\n",
      "Layer (type)                    Output Shape         Param #     Connected to                     \n",
      "==================================================================================================\n",
      "lstm_1_input (InputLayer)       (None, None, 300)    0                                            \n",
      "__________________________________________________________________________________________________\n",
      "lstm_1 (LSTM)                   (None, None, 512)    1665024     lstm_1_input[0][0]               \n",
      "__________________________________________________________________________________________________\n",
      "reshape_1_input (InputLayer)    (None, 4096)         0                                            \n",
      "__________________________________________________________________________________________________\n",
      "lstm_2 (LSTM)                   (None, None, 512)    2099200     lstm_1[0][0]                     \n",
      "__________________________________________________________________________________________________\n",
      "reshape_1 (Reshape)             (None, 4096)         0           reshape_1_input[0][0]            \n",
      "__________________________________________________________________________________________________\n",
      "lstm_3 (LSTM)                   (None, 512)          2099200     lstm_2[0][0]                     \n",
      "__________________________________________________________________________________________________\n",
      "concatenate_1 (Concatenate)     (None, 4608)         0           reshape_1[0][0]                  \n",
      "                                                                 lstm_3[0][0]                     \n",
      "__________________________________________________________________________________________________\n",
      "dense_1 (Dense)                 (None, 1024)         4719616     concatenate_1[0][0]              \n",
      "__________________________________________________________________________________________________\n",
      "dropout_1 (Dropout)             (None, 1024)         0           dense_1[0][0]                    \n",
      "__________________________________________________________________________________________________\n",
      "dense_2 (Dense)                 (None, 1024)         1049600     dropout_1[0][0]                  \n",
      "__________________________________________________________________________________________________\n",
      "dropout_2 (Dropout)             (None, 1024)         0           dense_2[0][0]                    \n",
      "__________________________________________________________________________________________________\n",
      "dense_3 (Dense)                 (None, 1024)         1049600     dropout_2[0][0]                  \n",
      "__________________________________________________________________________________________________\n",
      "dropout_3 (Dropout)             (None, 1024)         0           dense_3[0][0]                    \n",
      "__________________________________________________________________________________________________\n",
      "dense_4 (Dense)                 (None, 1000)         1025000     dropout_3[0][0]                  \n",
      "__________________________________________________________________________________________________\n",
      "activation_1 (Activation)       (None, 1000)         0           dense_4[0][0]                    \n",
      "==================================================================================================\n",
      "Total params: 13,707,240\n",
      "Trainable params: 13,707,240\n",
      "Non-trainable params: 0\n",
      "__________________________________________________________________________________________________\n"
     ]
    }
   ],
   "source": [
    "model.compile(loss='categorical_crossentropy', optimizer='rmsprop')\n",
    "model.summary()"
   ]
  },
  {
   "cell_type": "code",
   "execution_count": 17,
   "metadata": {},
   "outputs": [
    {
     "data": {
      "image/png": "[encoded data removed]",
      "text/plain": [
       "<IPython.core.display.Image object>"
      ]
     },
     "execution_count": 17,
     "metadata": {},
     "output_type": "execute_result"
    }
   ],
   "source": [
    "plot_model(model, to_file='model_plot.png', show_shapes=True, show_layer_names=True)"
   ]
  },
  {
   "cell_type": "code",
   "execution_count": 18,
   "metadata": {
    "colab": {},
    "colab_type": "code",
    "id": "ee1Fhe5Ugxcg"
   },
   "outputs": [],
   "source": [
    "def get_questions_tensor_timeseries(questions, nlp, timesteps):\n",
    "    assert not isinstance(questions, list)\n",
    "    nb_samples = len(questions)\n",
    "    word_vec_dim = nlp(questions[0])[0].vector.shape[0]\n",
    "    questions_tensor = np.zeros((nb_samples, timesteps, word_vec_dim))\n",
    "    for i in range(len(questions)):\n",
    "        tokens = nlp(questions[i])\n",
    "        for j in range(len(tokens)):\n",
    "            if j<timesteps:\n",
    "                questions_tensor[i,j,:] = tokens[j].vector\n",
    "    return questions_tensor\n",
    "\n",
    "def get_images_matrix(img_coco_ids, img_map, VGGfeatures):\n",
    "    assert not isinstance(img_coco_ids, list)\n",
    "    nb_samples = len(img_coco_ids)\n",
    "    nb_dimensions = VGGfeatures.shape[0]\n",
    "    image_matrix = np.zeros((nb_samples, nb_dimensions))\n",
    "    for j in range(len(img_coco_ids)):\n",
    "        image_matrix[j,:] = VGGfeatures[:,img_map[img_coco_ids[j]]]\n",
    "\n",
    "    return image_matrix\n",
    "\n",
    "def get_answers_sum(answers, encoder):\n",
    "    assert not isinstance(answers, list)\n",
    "    y = encoder.transform(answers)\n",
    "    nb_classes = encoder.classes_.shape[0]\n",
    "    Y = np_utils.to_categorical(y, nb_classes)\n",
    "    return Y\n",
    "\n",
    "def grouped(iterable, n, fillvalue=None):\n",
    "    args = [iter(iterable)] * n\n",
    "   #print(args)\n",
    "    #for a in(zip_longest(*args, fillvalue=fillvalue)):\n",
    "        #print(a)\n",
    "    return zip_longest(*args, fillvalue=fillvalue)"
   ]
  },
  {
   "cell_type": "markdown",
   "metadata": {},
   "source": [
    "### Train-Test Split"
   ]
  },
  {
   "cell_type": "code",
   "execution_count": 19,
   "metadata": {
    "colab": {},
    "colab_type": "code",
    "id": "dPOfigFlg1rS"
   },
   "outputs": [],
   "source": [
    "train_questions = questions[:95000]\n",
    "train_answers = answers[:95000]\n",
    "train_image_id = image_id[:95000]\n",
    "\n",
    "test_questions = questions[95000:]\n",
    "test_answers = answers[95000:]\n",
    "test_image_id = image_id[95000:]"
   ]
  },
  {
   "cell_type": "code",
   "execution_count": 20,
   "metadata": {
    "colab": {
     "base_uri": "https://localhost:8080/",
     "height": 187
    },
    "colab_type": "code",
    "executionInfo": {
     "elapsed": 3400810,
     "status": "ok",
     "timestamp": 1562177594503,
     "user": {
      "displayName": "CHAVAN AKSHAY",
      "photoUrl": "",
      "userId": "10674464813829582221"
     },
     "user_tz": -330
    },
    "id": "c7IY3CYjuZjZ",
    "outputId": "38f5d3fe-bd89-4138-a67a-0047d8f34521"
   },
   "outputs": [
    {
     "name": "stdout",
     "output_type": "stream",
     "text": [
      "Epoch Number:  1\n",
      "95232/95000 [==============================] - 700s 7ms/step - train loss: 2.5042\n",
      "Epoch Number:  2\n",
      "95232/95000 [==============================] - 688s 7ms/step - train loss: 2.4815\n",
      "Epoch Number:  3\n",
      "95232/95000 [==============================] - 673s 7ms/step - train loss: 2.4566\n",
      "Epoch Number:  4\n",
      "95232/95000 [==============================] - 669s 7ms/step - train loss: 2.4362\n",
      "Epoch Number:  5\n",
      "95232/95000 [==============================] - 669s 7ms/step - train loss: 2.4198\n"
     ]
    }
   ],
   "source": [
    "for k in range(num_epochs):\n",
    "    print(\"Epoch Number: \",k+1)\n",
    "    progbar = generic_utils.Progbar(len(train_questions))\n",
    "    for question_batch, ans_batch, im_batch in zip(grouped(train_questions, batch_size, fillvalue=train_questions[-1]), \n",
    "                                               grouped(train_answers, batch_size, fillvalue=train_answers[-1]),\n",
    "                                               grouped(train_image_id, batch_size, fillvalue=train_image_id[-1])):\n",
    "        timestep = len(nlp(question_batch[-1]))\n",
    "        X_ques_batch = get_questions_tensor_timeseries(question_batch, nlp, timestep)\n",
    "        X_img_batch = get_images_matrix(im_batch, id_map, features)\n",
    "        Y_batch = get_answers_sum(ans_batch, le)\n",
    "        #print(X_img_batch.shape)\n",
    "        loss = model.train_on_batch(({'lstm_1_input' : X_ques_batch, 'reshape_1_input' : X_img_batch}), Y_batch)\n",
    "        progbar.add(batch_size, values=[('train loss', loss)])\n",
    "        "
   ]
  },
  {
   "cell_type": "code",
   "execution_count": 20,
   "metadata": {
    "colab": {},
    "colab_type": "code",
    "id": "6gZaNPXdn0XH"
   },
   "outputs": [],
   "source": [
    "label_encoder = pickle.load(open('Preprocessed Data//label_encoder_lstm.pkl','rb'))"
   ]
  },
  {
   "cell_type": "code",
   "execution_count": 21,
   "metadata": {
    "colab": {},
    "colab_type": "code",
    "id": "_TjOeeu1phwf"
   },
   "outputs": [],
   "source": [
    "y_pred = []\n",
    "batch_size = 512 \n",
    "\n",
    "#print (\"Word2Vec Loaded!\") \n",
    "\n",
    "widgets = ['Evaluating ', Percentage(), ' ', Bar(marker='#',left='[',right=']'), ' ', ETA()]\n",
    "pbar = ProgressBar(widgets=widgets)"
   ]
  },
  {
   "cell_type": "code",
   "execution_count": 23,
   "metadata": {
    "colab": {
     "base_uri": "https://localhost:8080/",
     "height": 34
    },
    "colab_type": "code",
    "executionInfo": {
     "elapsed": 75488,
     "status": "ok",
     "timestamp": 1562178266093,
     "user": {
      "displayName": "CHAVAN AKSHAY",
      "photoUrl": "",
      "userId": "10674464813829582221"
     },
     "user_tz": -330
    },
    "id": "tuCplzu7pnyy",
    "outputId": "bf1e1c3b-6f57-4e89-b855-bdfde3af7af2"
   },
   "outputs": [
    {
     "name": "stderr",
     "output_type": "stream",
     "text": [
      "Evaluating N/A% [#                                             ] Time:  0:01:14\n"
     ]
    }
   ],
   "source": [
    "for qu_batch,an_batch,im_batch in pbar(zip(grouped(test_questions, batch_size, \n",
    "                                                   fillvalue=test_questions[0]), \n",
    "                                           grouped(test_answers, batch_size, \n",
    "                                                   fillvalue=test_answers[0]), \n",
    "                                           grouped(test_image_id, batch_size, \n",
    "                                                   fillvalue=test_image_id[0]))):\n",
    "    timesteps = len(nlp(qu_batch[-1]))\n",
    "    X_ques_batch = get_questions_tensor_timeseries(qu_batch, nlp, timesteps)\n",
    "    X_i_batch = get_images_matrix(im_batch, id_map, features)\n",
    "    #X_batch = [X_ques_batch, X_i_batch]\n",
    "    y_predict = model.predict(({'lstm_1_input' : X_ques_batch, 'reshape_1_input' : X_img_batch}))\n",
    "    y_predict = np.argmax(y_predict,axis=1)\n",
    "    y_pred.extend(label_encoder.inverse_transform(y_predict))"
   ]
  },
  {
   "cell_type": "code",
   "execution_count": 0,
   "metadata": {
    "colab": {},
    "colab_type": "code",
    "id": "QgB7xA7zqG9f"
   },
   "outputs": [],
   "source": [
    "correct_val = 0.0\n",
    "total = 0\n",
    "\n",
    "\n",
    "for pred, truth, ques, img in zip(y_pred, test_answers, test_questions, test_image_id):\n",
    "    t_count = 0\n",
    "    for _truth in truth.split(';'):\n",
    "        if pred == truth:\n",
    "            t_count += 1 \n",
    "    if t_count >=1:\n",
    "        correct_val +=1\n",
    "    else:\n",
    "        correct_val += float(t_count)/3\n",
    "\n",
    "    total +=1"
   ]
  },
  {
   "cell_type": "code",
   "execution_count": 25,
   "metadata": {
    "colab": {
     "base_uri": "https://localhost:8080/",
     "height": 34
    },
    "colab_type": "code",
    "executionInfo": {
     "elapsed": 584,
     "status": "ok",
     "timestamp": 1562178585689,
     "user": {
      "displayName": "CHAVAN AKSHAY",
      "photoUrl": "",
      "userId": "10674464813829582221"
     },
     "user_tz": -330
    },
    "id": "cXDfNgyvsdmF",
    "outputId": "67a7bc61-940c-409e-f28d-0d9f3ee1f2f5"
   },
   "outputs": [
    {
     "name": "stdout",
     "output_type": "stream",
     "text": [
      "Accuracy:  23.14\n"
     ]
    }
   ],
   "source": [
    "print (\"Accuracy: \", round((correct_val/total)*100,2))"
   ]
  },
  {
   "cell_type": "code",
   "execution_count": 0,
   "metadata": {
    "colab": {},
    "colab_type": "code",
    "id": "UvIb6gmnjZ9N"
   },
   "outputs": [],
   "source": [
    "model.save(\"model.h5\")"
   ]
  },
  {
   "cell_type": "code",
   "execution_count": 0,
   "metadata": {
    "colab": {},
    "colab_type": "code",
    "id": "zd_QKG40sl8J"
   },
   "outputs": [],
   "source": []
  }
 ],
 "metadata": {
  "accelerator": "GPU",
  "colab": {
   "collapsed_sections": [],
   "name": "VQA1.ipynb",
   "provenance": [],
   "version": "0.3.2"
  },
  "kernelspec": {
   "display_name": "Python 3",
   "language": "python",
   "name": "python3"
  },
  "language_info": {
   "codemirror_mode": {
    "name": "ipython",
    "version": 3
   },
   "file_extension": ".py",
   "mimetype": "text/x-python",
   "name": "python",
   "nbconvert_exporter": "python",
   "pygments_lexer": "ipython3",
   "version": "3.6.5"
  }
 },
 "nbformat": 4,
 "nbformat_minor": 1
}
